{
  "nbformat": 4,
  "nbformat_minor": 0,
  "metadata": {
    "colab": {
      "provenance": [],
      "authorship_tag": "ABX9TyPgMxkGTFugTFLkOAbzcRLw",
      "include_colab_link": true
    },
    "kernelspec": {
      "name": "python3",
      "display_name": "Python 3"
    },
    "language_info": {
      "name": "python"
    }
  },
  "cells": [
    {
      "cell_type": "markdown",
      "metadata": {
        "id": "view-in-github",
        "colab_type": "text"
      },
      "source": [
        "<a href=\"https://colab.research.google.com/github/ranwiththecode/fantasy_lit_sent_an/blob/main/sentiment_analysis.ipynb\" target=\"_parent\"><img src=\"https://colab.research.google.com/assets/colab-badge.svg\" alt=\"Open In Colab\"/></a>"
      ]
    },
    {
      "cell_type": "code",
      "execution_count": null,
      "metadata": {
        "id": "biCTFYWm6E4q"
      },
      "outputs": [],
      "source": [
        "import pandas as pd\n",
        "from google.cloud import bigquery\n",
        "from nltk.sentiment.vader import SentimentIntensityAnalyzer\n",
        "import nltk\n",
        "from tqdm import tqdm\n",
        "\n",
        "# Initialize NLTK\n",
        "nltk.download('vader_lexicon')\n",
        "sid = SentimentIntensityAnalyzer()\n",
        "\n",
        "# Configuration (UPDATE THESE)\n",
        "CONFIG = {\n",
        "    \"project_id\": \"stable-course-461105-k9\",      # Case-sensitive\n",
        "    \"dataset_id\": \"google_imports\",   # Your dataset\n",
        "    \"table_id\": \"pubs_2000_2005\",           # Your table\n",
        "    \"drive_path\": \"/content/drive/MyDrive/Goodreads_Data/\",\n",
        "    \"input_file\": \"eragon_paolini_clean.csv\"  # Your cleaned file\n",
        "}\n",
        "\n",
        "def analyze_sentiment(text):\n",
        "    \"\"\"Calculate sentiment score using VADER\"\"\"\n",
        "    if not isinstance(text, str) or not text.strip():\n",
        "        return None\n",
        "    return sid.polarity_scores(text)['compound']\n",
        "\n",
        "def process_and_update():\n",
        "    \"\"\"End-to-end processing pipeline\"\"\"\n",
        "    # Initialize BigQuery client\n",
        "    bq_client = bigquery.Client(project=CONFIG['project_id'])\n",
        "\n",
        "    # 1. Load cleaned data\n",
        "    input_path = os.path.join(CONFIG['drive_path'], CONFIG['input_file'])\n",
        "    print(f\"\\nLoading data from: {input_path}\")\n",
        "    df = pd.read_csv(input_path)\n",
        "\n",
        "    # 2. Calculate sentiment (with progress bar)\n",
        "    print(\"Analyzing sentiment...\")\n",
        "    tqdm.pandas(desc=\"Processing reviews\")\n",
        "    df['sentiment'] = df['clean_text'].progress_apply(analyze_sentiment)\n",
        "\n",
        "    # 3. Prepare for BigQuery update\n",
        "    table_ref = f\"{CONFIG['project_id']}.{CONFIG['dataset_id']}.{CONFIG['table_id']}\"\n",
        "    update_df = df[['id', 'sentiment']]  # Columns to update\n",
        "\n",
        "    # 4. Execute BigQuery update\n",
        "    try:\n",
        "        print(f\"\\nUpdating BigQuery table: {table_ref}\")\n",
        "        job_config = bigquery.LoadJobConfig(\n",
        "            write_disposition=\"WRITE_TRUNCATE\",\n",
        "            create_disposition=\"CREATE_IF_NEEDED\"\n",
        "        )\n",
        "\n",
        "        job = bq_client.load_table_from_dataframe(\n",
        "            update_df,\n",
        "            table_ref,\n",
        "            job_config=job_config\n",
        "        )\n",
        "        job.result()  # Wait for completion\n",
        "\n",
        "        print(f\"✅ Success! Updated {len(update_df)} rows\")\n",
        "        print(f\"Sample updated data:\\n{update_df.head(3)}\")\n",
        "\n",
        "    except Exception as e:\n",
        "        print(f\"❌ Error: {str(e)}\")\n",
        "        if hasattr(e, 'errors'):\n",
        "            for error in e.errors:\n",
        "                print(f\"Detail: {error['message']}\")\n",
        "\n",
        "# Run the pipeline\n",
        "if __name__ == \"__main__\":\n",
        "    process_and_update()"
      ]
    }
  ]
}